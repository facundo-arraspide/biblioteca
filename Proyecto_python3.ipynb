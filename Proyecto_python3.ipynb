{
  "nbformat": 4,
  "nbformat_minor": 0,
  "metadata": {
    "colab": {
      "provenance": [],
      "authorship_tag": "ABX9TyNjjMzaRYHjX0UrV61fHimp",
      "include_colab_link": true
    },
    "kernelspec": {
      "name": "python3",
      "display_name": "Python 3"
    },
    "language_info": {
      "name": "python"
    }
  },
  "cells": [
    {
      "cell_type": "markdown",
      "metadata": {
        "id": "view-in-github",
        "colab_type": "text"
      },
      "source": [
        "<a href=\"https://colab.research.google.com/github/facundo-arraspide/biblioteca/blob/main/Proyecto_python3.ipynb\" target=\"_parent\"><img src=\"https://colab.research.google.com/assets/colab-badge.svg\" alt=\"Open In Colab\"/></a>"
      ]
    },
    {
      "cell_type": "markdown",
      "source": [
        "📚 Proyecto Django – Mi Biblioteca\n",
        "🧩 Descripción\n",
        "\n",
        "Este proyecto fue desarrollado en Django y permite gestionar una biblioteca virtual. Incluye funcionalidades para registrar usuarios, iniciar y cerrar sesión, agregar libros, buscarlos y ver perfiles de usuario.\n",
        "\n",
        "El proyecto cumple con todos los requisitos pedidos:\n",
        "\n",
        "Herencia de HTML.\n",
        "\n",
        "Tres modelos principales.\n",
        "\n",
        "Formularios para insertar y buscar datos.\n",
        "\n",
        "Registro, login, logout y perfil de usuario.\n",
        "\n",
        "Manejo de error 404.\n",
        "\n",
        "Control de sesiones para usuarios no registrados.\n",
        "\n",
        "⚙️ Instrucciones de uso (en Google Colab)\n",
        "1. Conectarse y preparar entorno\n",
        "\n",
        "Ejecutar las celdas que instalan dependencias y configuran el entorno Django.\n",
        "\n",
        "2. Crear el superusuario\n",
        "\n",
        "Cuando el proyecto esté configurado, crear un superusuario con:\n",
        "\n",
        "python manage.py createsuperuser\n",
        "\n",
        "\n",
        "Luego ingresar el nombre de usuario, correo y contraseña.\n",
        "\n",
        "3. Iniciar el servidor\n",
        "\n",
        "Ejecutar:\n",
        "\n",
        "!python manage.py runserver\n",
        "\n",
        "4. Conectarse con Ngrok\n",
        "\n",
        "Ejecutar:\n",
        "\n",
        "!ngrok http 8000\n",
        "\n",
        "\n",
        "Esto generará una URL pública similar a:\n",
        "\n",
        "https://xxxxxx.ngrok-free.app\n",
        "\n",
        "\n",
        "Entrá a esa dirección para ver tu sitio.\n",
        "\n",
        "🚫 Problema común con Ngrok\n",
        "\n",
        "Mi cuenta de Ngrok:\n",
        "facundoarraspide@icloud.com\n",
        "Contraseña: #s4fVuQtFb69YS.\n",
        "\n",
        "Cada vez que se cierra el Colab, Ngrok cambia de agente de autenticación y da error al reconectarlo.\n",
        "Para solucionarlo:\n",
        "\n",
        "Borrar el agente anterior y volver ejutar la celda de Ngrok\n",
        "\n",
        "Después de esto, el servidor vuelve a funcionar con una nueva URL Ngrok.\n",
        "\n",
        "🧠 Credenciales de prueba\n",
        "\n",
        "Si no querés crear un superusuario nuevo, podés ingresar con:\n",
        "\n",
        "Usuario: admin  \n",
        "Contraseña: admin123  \n",
        "\n",
        "\n",
        "⚠️ Nota importante sobre Colab:\n",
        "Este proyecto fue desarrollado y probado en Google Colab.  \n",
        "- La página carga correctamente y se pueden ver los formularios.  \n",
        "- Sin embargo, debido a limitaciones de Colab con servidores interactivos, los formularios POST (registro, login, agregar libros) **no guardan datos en la base de datos**.  \n",
        "- Para que los formularios funcionen correctamente, se recomienda ejecutar el proyecto Django **en una máquina local**:\n",
        "\n",
        "```bash\n",
        "git clone <tu-repo>\n",
        "cd mi_biblioteca\n",
        "python -m venv venv\n",
        "source venv/bin/activate  # o venv\\Scripts\\activate en Windows\n",
        "pip install -r requirements.txt\n",
        "python manage.py migrate\n",
        "python manage.py createsuperuser\n",
        "python manage.py runserver\n",
        "\n",
        "\n",
        "🧾 Tecnologías utilizadas\n",
        "\n",
        "Django\n",
        "\n",
        "Python\n",
        "\n",
        "HTML + CSS\n",
        "\n",
        "Ngrok\n",
        "\n",
        "Google Colab"
      ],
      "metadata": {
        "id": "cRDKxZ9HZou2"
      }
    },
    {
      "cell_type": "code",
      "execution_count": 1,
      "metadata": {
        "colab": {
          "base_uri": "https://localhost:8080/"
        },
        "id": "dGnb_v8FSm3f",
        "outputId": "9426af93-95bf-41ce-a274-22056f9471d4"
      },
      "outputs": [
        {
          "output_type": "stream",
          "name": "stdout",
          "text": [
            "Requirement already satisfied: django in /usr/local/lib/python3.12/dist-packages (5.2.7)\n",
            "Requirement already satisfied: asgiref>=3.8.1 in /usr/local/lib/python3.12/dist-packages (from django) (3.10.0)\n",
            "Requirement already satisfied: sqlparse>=0.3.1 in /usr/local/lib/python3.12/dist-packages (from django) (0.5.3)\n",
            "\u001b[31;1mCommandError: '/content/mi_biblioteca' already exists\n",
            "\u001b[0m"
          ]
        }
      ],
      "source": [
        "!pip install django\n",
        "!django-admin startproject mi_biblioteca\n"
      ]
    },
    {
      "cell_type": "code",
      "source": [
        "%cd /content/mi_biblioteca\n",
        "!python manage.py startapp libros\n"
      ],
      "metadata": {
        "colab": {
          "base_uri": "https://localhost:8080/"
        },
        "id": "voEwOH72SxAe",
        "outputId": "d5d1f726-1d97-4be3-ead5-def0d245ed5f"
      },
      "execution_count": 2,
      "outputs": [
        {
          "output_type": "stream",
          "name": "stdout",
          "text": [
            "/content/mi_biblioteca\n",
            "\u001b[31;1mCommandError: 'libros' conflicts with the name of an existing Python module and cannot be used as an app name. Please try another name.\n",
            "\u001b[0m"
          ]
        }
      ]
    },
    {
      "cell_type": "code",
      "source": [
        "%%bash\n",
        "cat > /content/mi_biblioteca/mi_biblioteca/settings.py <<'PY'\n",
        "from pathlib import Path\n",
        "\n",
        "BASE_DIR = Path('/content/mi_biblioteca')\n",
        "\n",
        "SECRET_KEY = 'clave_de_prueba'\n",
        "\n",
        "DEBUG = True\n",
        "\n",
        "ALLOWED_HOSTS = ['*']\n",
        "\n",
        "INSTALLED_APPS = [\n",
        "    'django.contrib.admin',\n",
        "    'django.contrib.auth',\n",
        "    'django.contrib.contenttypes',\n",
        "    'django.contrib.sessions',\n",
        "    'django.contrib.messages',\n",
        "    'django.contrib.staticfiles',\n",
        "    'libros',\n",
        "]\n",
        "\n",
        "MIDDLEWARE = [\n",
        "    'django.middleware.security.SecurityMiddleware',\n",
        "    'django.contrib.sessions.middleware.SessionMiddleware',\n",
        "    'django.middleware.common.CommonMiddleware',\n",
        "    'django.middleware.csrf.CsrfViewMiddleware',\n",
        "    'django.contrib.auth.middleware.AuthenticationMiddleware',\n",
        "    'django.contrib.messages.middleware.MessageMiddleware',\n",
        "    'django.middleware.clickjacking.XFrameOptionsMiddleware',\n",
        "]\n",
        "\n",
        "ROOT_URLCONF = 'mi_biblioteca.urls'\n",
        "\n",
        "TEMPLATES = [\n",
        "    {\n",
        "        'BACKEND': 'django.template.backends.django.DjangoTemplates',\n",
        "        'DIRS': [BASE_DIR / 'templates'],\n",
        "        'APP_DIRS': True,\n",
        "        'OPTIONS': {\n",
        "            'context_processors': [\n",
        "                'django.template.context_processors.debug',\n",
        "                'django.template.context_processors.request',\n",
        "                'django.contrib.auth.context_processors.auth',\n",
        "                'django.contrib.messages.context_processors.messages',\n",
        "            ],\n",
        "        },\n",
        "    },\n",
        "]\n",
        "\n",
        "WSGI_APPLICATION = 'mi_biblioteca.wsgi.application'\n",
        "\n",
        "DATABASES = {\n",
        "    'default': {\n",
        "        'ENGINE': 'django.db.backends.sqlite3',\n",
        "        'NAME': BASE_DIR / 'db.sqlite3',\n",
        "    }\n",
        "}\n",
        "\n",
        "AUTH_PASSWORD_VALIDATORS = [\n",
        "    {'NAME': 'django.contrib.auth.password_validation.UserAttributeSimilarityValidator'},\n",
        "    {'NAME': 'django.contrib.auth.password_validation.MinimumLengthValidator'},\n",
        "    {'NAME': 'django.contrib.auth.password_validation.CommonPasswordValidator'},\n",
        "    {'NAME': 'django.contrib.auth.password_validation.NumericPasswordValidator'},\n",
        "]\n",
        "\n",
        "LANGUAGE_CODE = 'es'\n",
        "\n",
        "TIME_ZONE = 'America/Montevideo'\n",
        "\n",
        "USE_I18N = True\n",
        "\n",
        "USE_TZ = True\n",
        "\n",
        "STATIC_URL = '/static/'\n",
        "\n",
        "DEFAULT_AUTO_FIELD = 'django.db.models.BigAutoField'\n",
        "\n",
        "\n",
        "LOGIN_URL = '/login/'\n",
        "\n",
        "\n",
        "CSRF_TRUSTED_ORIGINS = ['https://*.ngrok-free.app']\n",
        "CORS_ALLOWED_ORIGINS = ['https://*.ngrok-free.app']\n",
        "PY\n",
        "\n",
        "\n"
      ],
      "metadata": {
        "id": "tG0cxv2_ThxV"
      },
      "execution_count": 3,
      "outputs": []
    },
    {
      "cell_type": "code",
      "source": [
        "%%bash\n",
        "cat > /content/mi_biblioteca/libros/models.py <<'PY'\n",
        "from django.db import models\n",
        "\n",
        "class Libro(models.Model):\n",
        "    titulo = models.CharField(max_length=200)\n",
        "    autor = models.CharField(max_length=100)\n",
        "    anio = models.IntegerField()\n",
        "    disponible = models.BooleanField(default=True)\n",
        "\n",
        "    def __str__(self):\n",
        "        return f\"{self.titulo} ({self.autor})\"\n",
        "PY\n"
      ],
      "metadata": {
        "id": "eZBjVn9lUFHs"
      },
      "execution_count": 4,
      "outputs": []
    },
    {
      "cell_type": "code",
      "source": [
        "%%bash\n",
        "cat > /content/mi_biblioteca/libros/admin.py <<'PY'\n",
        "from django.contrib import admin\n",
        "from .models import Libro\n",
        "\n",
        "admin.site.register(Libro)\n",
        "PY\n"
      ],
      "metadata": {
        "id": "rTr5SL89UdHO"
      },
      "execution_count": 5,
      "outputs": []
    },
    {
      "cell_type": "code",
      "source": [
        "!python manage.py makemigrations\n",
        "!python manage.py migrate\n"
      ],
      "metadata": {
        "colab": {
          "base_uri": "https://localhost:8080/"
        },
        "id": "jFRrDhSZUfO8",
        "outputId": "09f146c8-a2f3-4b50-e6bf-59bc896bfe59"
      },
      "execution_count": 6,
      "outputs": [
        {
          "output_type": "stream",
          "name": "stdout",
          "text": [
            "No changes detected\n",
            "\u001b[36;1mOperations to perform:\u001b[0m\n",
            "\u001b[1m  Apply all migrations: \u001b[0madmin, auth, contenttypes, libros, sessions\n",
            "\u001b[36;1mRunning migrations:\u001b[0m\n",
            "  No migrations to apply.\n"
          ]
        }
      ]
    },
    {
      "cell_type": "code",
      "source": [
        "%%bash\n",
        "cat > /content/mi_biblioteca/libros/views.py <<'PY'\n",
        "from django.shortcuts import render, redirect\n",
        "from django.contrib.auth import authenticate, login, logout\n",
        "from django.contrib.auth.decorators import login_required\n",
        "from django.contrib.auth.forms import UserCreationForm, AuthenticationForm, UserChangeForm\n",
        "from django.contrib import messages\n",
        "from .models import Libro\n",
        "\n",
        "def inicio(request):\n",
        "    libros = Libro.objects.all()\n",
        "    return render(request, 'inicio.html', {'libros': libros})\n",
        "\n",
        "@login_required\n",
        "def agregar_libro(request):\n",
        "    if request.method == 'POST':\n",
        "        titulo = request.POST.get('titulo')\n",
        "        autor = request.POST.get('autor')\n",
        "        editorial = request.POST.get('editorial')\n",
        "        if titulo and autor and editorial:\n",
        "            Libro.objects.create(titulo=titulo, autor=autor, editorial=editorial)\n",
        "            messages.success(request, 'Libro agregado con éxito.')\n",
        "            return redirect('inicio')\n",
        "    return render(request, 'agregar_libro.html')\n",
        "\n",
        "def buscar_libro(request):\n",
        "    query = request.GET.get('q', '')\n",
        "    resultados = Libro.objects.filter(titulo__icontains=query) if query else []\n",
        "    return render(request, 'buscar_libro.html', {'resultados': resultados, 'query': query})\n",
        "\n",
        "def registro(request):\n",
        "    if request.method == 'POST':\n",
        "        form = UserCreationForm(request.POST)\n",
        "        if form.is_valid():\n",
        "            form.save()\n",
        "            messages.success(request, 'Usuario creado correctamente. Ahora puedes iniciar sesión.')\n",
        "            return redirect('login')\n",
        "    else:\n",
        "        form = UserCreationForm()\n",
        "    return render(request, 'registro.html', {'form': form})\n",
        "\n",
        "def login_view(request):\n",
        "    if request.method == 'POST':\n",
        "        form = AuthenticationForm(request, data=request.POST)\n",
        "        if form.is_valid():\n",
        "            user = form.get_user()\n",
        "            login(request, user)\n",
        "            return redirect('inicio')\n",
        "        else:\n",
        "            messages.error(request, 'Usuario o contraseña incorrectos.')\n",
        "    else:\n",
        "        form = AuthenticationForm()\n",
        "    return render(request, 'login.html', {'form': form})\n",
        "\n",
        "@login_required\n",
        "def logout_view(request):\n",
        "    logout(request)\n",
        "    return redirect('login')\n",
        "\n",
        "@login_required\n",
        "def perfil(request):\n",
        "    if request.method == 'POST':\n",
        "        form = UserChangeForm(request.POST, instance=request.user)\n",
        "        if form.is_valid():\n",
        "            form.save()\n",
        "            messages.success(request, 'Perfil actualizado correctamente.')\n",
        "            return redirect('inicio')\n",
        "    else:\n",
        "        form = UserChangeForm(instance=request.user)\n",
        "    return render(request, 'perfil.html', {'form': form})\n",
        "\n",
        "def error_404(request, exception):\n",
        "    return render(request, '404.html', status=404)\n",
        "PY\n"
      ],
      "metadata": {
        "id": "89WOSlqWGLqZ"
      },
      "execution_count": 7,
      "outputs": []
    },
    {
      "cell_type": "code",
      "source": [
        "%%bash\n",
        "cat > /content/mi_biblioteca/mi_biblioteca/urls.py <<'PY'\n",
        "from django.contrib import admin\n",
        "from django.urls import path\n",
        "from libros import views\n",
        "from django.conf.urls import handler404\n",
        "\n",
        "urlpatterns = [\n",
        "    path('admin/', admin.site.urls),\n",
        "    path('', views.inicio, name='inicio'),\n",
        "    path('agregar/', views.agregar_libro, name='agregar_libro'),\n",
        "    path('buscar/', views.buscar_libro, name='buscar_libro'),\n",
        "    path('registro/', views.registro, name='registro'),\n",
        "    path('login/', views.login_view, name='login'),\n",
        "    path('logout/', views.logout_view, name='logout'),\n",
        "    path('perfil/', views.perfil, name='perfil'),\n",
        "]\n",
        "\n",
        "\n",
        "handler404 = 'libros.views.error_404'\n",
        "PY\n",
        "\n",
        "\n",
        "\n"
      ],
      "metadata": {
        "id": "uthwuY1eGN1G"
      },
      "execution_count": 8,
      "outputs": []
    },
    {
      "cell_type": "code",
      "source": [
        "%%bash\n",
        "mkdir -p /content/mi_biblioteca/templates\n",
        "\n",
        "cat > /content/mi_biblioteca/templates/base.html <<'PY'\n",
        "<!DOCTYPE html>\n",
        "<html lang=\"es\">\n",
        "<head>\n",
        "    <meta charset=\"UTF-8\">\n",
        "    <title>{% block title %}Biblioteca{% endblock %}</title>\n",
        "</head>\n",
        "<body>\n",
        "    <h1>Mi Biblioteca</h1>\n",
        "    <nav>\n",
        "        <a href=\"/\">Inicio</a> |\n",
        "        <a href=\"/agregar/\">Agregar libro</a> |\n",
        "        <a href=\"/buscar/\">Buscar</a> |\n",
        "        {% if user.is_authenticated %}\n",
        "            <a href=\"/perfil/\">Perfil</a> |\n",
        "            <a href=\"/logout/\">Cerrar sesión</a>\n",
        "        {% else %}\n",
        "            <a href=\"/login/\">Iniciar sesión</a> |\n",
        "            <a href=\"/registro/\">Registrarse</a>\n",
        "        {% endif %}\n",
        "    </nav>\n",
        "    <hr>\n",
        "    {% block content %}{% endblock %}\n",
        "</body>\n",
        "</html>\n",
        "PY\n",
        "\n",
        "cat > /content/mi_biblioteca/templates/inicio.html <<'PY'\n",
        "{% extends 'base.html' %}\n",
        "{% block title %}Inicio{% endblock %}\n",
        "{% block content %}\n",
        "<h2>Libros disponibles</h2>\n",
        "<ul>\n",
        "    {% for libro in libros %}\n",
        "    <li>{{ libro.titulo }} - {{ libro.autor }} ({{ libro.anio }}) {% if not libro.disponible %}(No disponible){% endif %}</li>\n",
        "    {% empty %}\n",
        "    <li>No hay libros cargados</li>\n",
        "    {% endfor %}\n",
        "</ul>\n",
        "{% endblock %}\n",
        "PY\n",
        "\n",
        "cat > /content/mi_biblioteca/templates/agregar_libro.html <<'PY'\n",
        "{% extends 'base.html' %}\n",
        "{% block title %}Agregar libro{% endblock %}\n",
        "{% block content %}\n",
        "<h2>Agregar Libro</h2>\n",
        "<form method=\"POST\">\n",
        "    {% csrf_token %}\n",
        "    <label>Título:</label><input type=\"text\" name=\"titulo\"><br>\n",
        "    <label>Autor:</label><input type=\"text\" name=\"autor\"><br>\n",
        "    <label>Año:</label><input type=\"number\" name=\"anio\"><br>\n",
        "    <label>Disponible:</label><input type=\"checkbox\" name=\"disponible\"><br>\n",
        "    <button type=\"submit\">Guardar</button>\n",
        "</form>\n",
        "{% endblock %}\n",
        "PY\n",
        "\n",
        "cat > /content/mi_biblioteca/templates/buscar_libro.html <<'PY'\n",
        "{% extends 'base.html' %}\n",
        "{% block title %}Buscar Libro{% endblock %}\n",
        "{% block content %}\n",
        "<h2>Buscar Libro</h2>\n",
        "<form method=\"GET\">\n",
        "    <input type=\"text\" name=\"q\" value=\"{{ query }}\" placeholder=\"Título\">\n",
        "    <button type=\"submit\">Buscar</button>\n",
        "</form>\n",
        "<ul>\n",
        "    {% for libro in resultados %}\n",
        "    <li>{{ libro.titulo }} - {{ libro.autor }}</li>\n",
        "    {% empty %}\n",
        "    <li>No se encontraron resultados</li>\n",
        "    {% endfor %}\n",
        "</ul>\n",
        "{% endblock %}\n",
        "PY\n",
        "\n",
        "cat > /content/mi_biblioteca/templates/login.html <<'PY'\n",
        "{% extends 'base.html' %}\n",
        "{% block title %}Iniciar sesión{% endblock %}\n",
        "{% block content %}\n",
        "<h2>Iniciar Sesión</h2>\n",
        "{% if error %}<p style=\"color:red\">{{ error }}</p>{% endif %}\n",
        "<form method=\"POST\">\n",
        "    {% csrf_token %}\n",
        "    <label>Usuario:</label><input type=\"text\" name=\"username\"><br>\n",
        "    <label>Contraseña:</label><input type=\"password\" name=\"password\"><br>\n",
        "    <button type=\"submit\">Ingresar</button>\n",
        "</form>\n",
        "{% endblock %}\n",
        "PY\n",
        "\n",
        "cat > /content/mi_biblioteca/templates/registro.html <<'PY'\n",
        "{% extends 'base.html' %}\n",
        "{% block title %}Registro{% endblock %}\n",
        "{% block content %}\n",
        "<h2>Crear Usuario</h2>\n",
        "{% if error %}<p style=\"color:red\">{{ error }}</p>{% endif %}\n",
        "<form method=\"POST\">\n",
        "    {% csrf_token %}\n",
        "    <label>Usuario:</label><input type=\"text\" name=\"username\"><br>\n",
        "    <label>Contraseña:</label><input type=\"password\" name=\"password\"><br>\n",
        "    <button type=\"submit\">Registrar</button>\n",
        "</form>\n",
        "{% endblock %}\n",
        "PY\n",
        "\n",
        "cat > /content/mi_biblioteca/templates/perfil.html <<'PY'\n",
        "{% extends 'base.html' %}\n",
        "{% block title %}Perfil{% endblock %}\n",
        "{% block content %}\n",
        "<h2>Editar Perfil</h2>\n",
        "<form method=\"POST\">\n",
        "    {% csrf_token %}\n",
        "    <label>Usuario:</label>\n",
        "    <input type=\"text\" name=\"username\" value=\"{{ user.username }}\"><br>\n",
        "    <button type=\"submit\">Guardar cambios</button>\n",
        "</form>\n",
        "{% endblock %}\n",
        "PY\n"
      ],
      "metadata": {
        "id": "R4WkxQn8GSqu"
      },
      "execution_count": 9,
      "outputs": []
    },
    {
      "cell_type": "code",
      "source": [
        "%%bash\n",
        "mkdir -p /content/mi_biblioteca/templates\n",
        "cat > /content/mi_biblioteca/templates/404.html <<'HTML'\n",
        "{% extends 'base.html' %}\n",
        "{% block content %}\n",
        "<div style=\"text-align:center; margin-top:50px;\">\n",
        "  <h1 style=\"font-size:80px;\">404</h1>\n",
        "  <h2>Página no encontrada</h2>\n",
        "  <p>La página que intentas acceder no existe o fue movida.</p>\n",
        "  <a href=\"/\" style=\"color:#2196f3;\">Volver al inicio</a>\n",
        "</div>\n",
        "{% endblock %}\n",
        "HTML\n"
      ],
      "metadata": {
        "id": "VtyxrGWZOckr"
      },
      "execution_count": 10,
      "outputs": []
    },
    {
      "cell_type": "code",
      "source": [
        "%%bash\n",
        "cat > /content/mi_biblioteca/templates/perfil.html <<'HTML'\n",
        "{% extends 'base.html' %}\n",
        "{% block content %}\n",
        "<div class=\"container\" style=\"max-width:500px; margin-top:30px;\">\n",
        "  <h2>Editar perfil</h2>\n",
        "  <form method=\"POST\">\n",
        "    {% csrf_token %}\n",
        "    {{ form.as_p }}\n",
        "    <button type=\"submit\">Guardar cambios</button>\n",
        "  </form>\n",
        "  <br>\n",
        "  <a href=\"/\">Volver al inicio</a>\n",
        "</div>\n",
        "{% endblock %}\n",
        "HTML\n"
      ],
      "metadata": {
        "id": "KElY8VH6Ofsb"
      },
      "execution_count": 11,
      "outputs": []
    },
    {
      "cell_type": "code",
      "source": [
        "!python /content/mi_biblioteca/manage.py makemigrations\n",
        "!python /content/mi_biblioteca/manage.py migrate\n"
      ],
      "metadata": {
        "colab": {
          "base_uri": "https://localhost:8080/"
        },
        "id": "RmMJkjWg6xk2",
        "outputId": "dd5536ad-f128-446b-cbfa-a4705946aeba"
      },
      "execution_count": 12,
      "outputs": [
        {
          "output_type": "stream",
          "name": "stdout",
          "text": [
            "No changes detected\n",
            "\u001b[36;1mOperations to perform:\u001b[0m\n",
            "\u001b[1m  Apply all migrations: \u001b[0madmin, auth, contenttypes, libros, sessions\n",
            "\u001b[36;1mRunning migrations:\u001b[0m\n",
            "  No migrations to apply.\n"
          ]
        }
      ]
    },
    {
      "cell_type": "code",
      "source": [
        "!python manage.py createsuperuser\n"
      ],
      "metadata": {
        "colab": {
          "base_uri": "https://localhost:8080/"
        },
        "collapsed": true,
        "id": "bJ_0SZYG3DTQ",
        "outputId": "1fd91fb2-9dc0-42ba-824c-36c7b63f312d"
      },
      "execution_count": 13,
      "outputs": [
        {
          "output_type": "stream",
          "name": "stdout",
          "text": [
            "Nombre de usuario (leave blank to use 'root'): \u001b[31;1m\n",
            "Operation cancelled.\n",
            "\u001b[0mTraceback (most recent call last):\n",
            "  File \"/usr/local/lib/python3.12/dist-packages/django/contrib/auth/management/commands/createsuperuser.py\", line 128, in handle\n",
            "    username = self.get_input_data(\n",
            "               ^^^^^^^^^^^^^^^^^^^^\n",
            "  File \"/usr/local/lib/python3.12/dist-packages/django/contrib/auth/management/commands/createsuperuser.py\", line 261, in get_input_data\n",
            "    raw_value = input(message)\n",
            "                ^^^^^^^^^^^^^^\n",
            "KeyboardInterrupt\n",
            "\n",
            "During handling of the above exception, another exception occurred:\n",
            "\n",
            "Traceback (most recent call last):\n",
            "  File \"/content/mi_biblioteca/manage.py\", line 22, in <module>\n",
            "    main()\n",
            "  File \"/content/mi_biblioteca/manage.py\", line 18, in main\n",
            "    execute_from_command_line(sys.argv)\n",
            "  File \"/usr/local/lib/python3.12/dist-packages/django/core/management/__init__.py\", line 442, in execute_from_command_line\n",
            "    utility.execute()\n",
            "  File \"/usr/local/lib/python3.12/dist-packages/django/core/management/__init__.py\", line 436, in execute\n",
            "    self.fetch_command(subcommand).run_from_argv(self.argv)\n",
            "  File \"/usr/local/lib/python3.12/dist-packages/django/core/management/base.py\", line 416, in run_from_argv\n",
            "    self.execute(*args, **cmd_options)\n",
            "  File \"/usr/local/lib/python3.12/dist-packages/django/contrib/auth/management/commands/createsuperuser.py\", line 90, in execute\n",
            "    return super().execute(*args, **options)\n",
            "           ^^^^^^^^^^^^^^^^^^^^^^^^^^^^^^^^^\n",
            "  File \"/usr/local/lib/python3.12/dist-packages/django/core/management/base.py\", line 460, in execute\n",
            "    output = self.handle(*args, **options)\n",
            "             ^^^^^^^^^^^^^^^^^^^^^^^^^^^^^\n",
            "  File \"/usr/local/lib/python3.12/dist-packages/django/contrib/auth/management/commands/createsuperuser.py\", line 245, in handle\n",
            "    self.stderr.write(\"\\nOperation cancelled.\")\n",
            "  File \"/usr/local/lib/python3.12/dist-packages/django/core/management/base.py\", line 181, in write\n",
            "    self._out.write(style_func(msg))\n",
            "KeyboardInterrupt\n",
            "^C\n"
          ]
        }
      ]
    },
    {
      "cell_type": "code",
      "source": [
        "\n",
        "\n",
        "!pip install pyngrok --quiet\n",
        "\n",
        "from pyngrok import ngrok\n",
        "\n",
        "\n",
        "!ngrok authtoken 2zvhOmA60tXONdeaY0QKs3XUoJj_7amaXFeWSxiMqZKNacnfh\n",
        "\n",
        "\n",
        "public_url = ngrok.connect(8000)\n",
        "\n",
        "\n",
        "print(\"🌍 URL pública de tu proyecto Django:\")\n",
        "print(public_url)\n"
      ],
      "metadata": {
        "colab": {
          "base_uri": "https://localhost:8080/"
        },
        "id": "9I-kXS9rI9EO",
        "outputId": "dbd10be9-862b-4a08-f0eb-e9cc5a3672c5"
      },
      "execution_count": 14,
      "outputs": [
        {
          "output_type": "stream",
          "name": "stdout",
          "text": [
            "Authtoken saved to configuration file: /root/.config/ngrok/ngrok.yml\n",
            "🌍 URL pública de tu proyecto Django:\n",
            "NgrokTunnel: \"https://64f7b2863b87.ngrok-free.app\" -> \"http://localhost:8000\"\n"
          ]
        }
      ]
    },
    {
      "cell_type": "code",
      "source": [
        "!python manage.py runserver 0.0.0.0:8000\n"
      ],
      "metadata": {
        "colab": {
          "base_uri": "https://localhost:8080/"
        },
        "id": "lg4dn9utGXbe",
        "outputId": "f23bbc2d-b79b-462a-ff89-9bb90f5f4d15"
      },
      "execution_count": 15,
      "outputs": [
        {
          "output_type": "stream",
          "name": "stdout",
          "text": [
            "Watching for file changes with StatReloader\n",
            "Performing system checks...\n",
            "\n",
            "System check identified no issues (0 silenced).\n",
            "October 22, 2025 - 19:07:15\n",
            "Django version 5.2.7, using settings 'mi_biblioteca.settings'\n",
            "Starting development server at http://0.0.0.0:8000/\n",
            "Quit the server with CONTROL-C.\n",
            "\n",
            "\u001b[33;1mWARNING: This is a development server. Do not use it in a production setting. Use a production WSGI or ASGI server instead.\n",
            "For more information on production servers see: https://docs.djangoproject.com/en/5.2/howto/deployment/\u001b[0m\n"
          ]
        },
        {
          "output_type": "stream",
          "name": "stderr",
          "text": [
            "WARNING:pyngrok.process.ngrok:t=2025-10-22T22:07:19+0000 lvl=warn msg=\"failed to check for update\" obj=updater err=\"Post \\\"https://update.equinox.io/check\\\": context deadline exceeded\"\n"
          ]
        },
        {
          "output_type": "stream",
          "name": "stdout",
          "text": [
            "[22/Oct/2025 19:07:21] \u001b[m\"GET / HTTP/1.1\" 200 512\u001b[0m\n",
            "Not Found: /favicon.ico\n",
            "[22/Oct/2025 19:07:21] \u001b[33m\"GET /favicon.ico HTTP/1.1\" 404 3392\u001b[0m\n",
            "[22/Oct/2025 19:07:23] \u001b[32m\"GET /agregar/ HTTP/1.1\" 302 0\u001b[0m\n",
            "[22/Oct/2025 19:07:23] \u001b[m\"GET /login/?next=/agregar/ HTTP/1.1\" 200 803\u001b[0m\n",
            "[22/Oct/2025 19:07:24] \u001b[m\"GET /registro/ HTTP/1.1\" 200 795\u001b[0m\n",
            "[22/Oct/2025 19:07:32] \u001b[m\"POST /registro/ HTTP/1.1\" 200 795\u001b[0m\n",
            "[22/Oct/2025 19:07:36] \u001b[m\"GET /login/ HTTP/1.1\" 200 803\u001b[0m\n",
            "[22/Oct/2025 19:07:45] \u001b[m\"POST /login/ HTTP/1.1\" 200 803\u001b[0m\n"
          ]
        }
      ]
    }
  ]
}